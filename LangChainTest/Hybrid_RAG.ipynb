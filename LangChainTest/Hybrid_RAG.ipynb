{
 "cells": [
  {
   "cell_type": "code",
   "execution_count": 24,
   "metadata": {},
   "outputs": [
    {
     "data": {
      "text/plain": [
       "True"
      ]
     },
     "execution_count": 24,
     "metadata": {},
     "output_type": "execute_result"
    }
   ],
   "source": [
    "from langchain_openai import ChatOpenAI\n",
    "from langchain_teddynote import logging\n",
    "from langchain_teddynote.messages import stream_response\n",
    "from langchain_core.prompts import PromptTemplate\n",
    "from langchain_core.runnables import RunnablePassthrough\n",
    "from langchain_core.prompts import ChatPromptTemplate, MessagesPlaceholder\n",
    "from langchain_core.output_parsers import StrOutputParser\n",
    "from langchain_core.prompts import FewShotChatMessagePromptTemplate\n",
    "from langchain_community.document_loaders import PyMuPDFLoader\n",
    "from langchain_text_splitters import RecursiveCharacterTextSplitter\n",
    "from langchain_openai import OpenAIEmbeddings\n",
    "from langchain_community.vectorstores import FAISS\n",
    "from langchain_community.vectorstores.utils import DistanceStrategy\n",
    "from langchain_community.embeddings import HuggingFaceEmbeddings\n",
    "from langchain_text_splitters import CharacterTextSplitter\n",
    "from langchain_community.document_loaders import TextLoader\n",
    "from langchain_community.document_loaders import UnstructuredMarkdownLoader\n",
    "from langchain_community.document_loaders import UnstructuredExcelLoader\n",
    "import pandas\n",
    "from llama_parse import LlamaParse\n",
    "from langchain_community.llms import Ollama  \n",
    "import streamlit as st\n",
    "import joblib\n",
    "from langchain.retrievers import BM25Retriever, EnsembleRetriever\n",
    "# from langchain_huggingface import HuggingFaceEmbeddings\n",
    "from dotenv import load_dotenv\n",
    "\n",
    "# API 키 정보 로드\n",
    "load_dotenv()"
   ]
  },
  {
   "cell_type": "code",
   "execution_count": 25,
   "metadata": {},
   "outputs": [
    {
     "name": "stderr",
     "output_type": "stream",
     "text": [
      "c:\\Users\\jw\\.pyenv\\pyenv-win\\versions\\3.11.9\\Lib\\site-packages\\transformers\\tokenization_utils_base.py:1601: FutureWarning: `clean_up_tokenization_spaces` was not set. It will be set to `True` by default. This behavior will be depracted in transformers v4.45, and will be then set to `False` by default. For more details check this issue: https://github.com/huggingface/transformers/issues/31884\n",
      "  warnings.warn(\n"
     ]
    }
   ],
   "source": [
    "embeddings_model = HuggingFaceEmbeddings(  # 768 차원\n",
    "    model_name='jhgan/ko-sroberta-nli',\n",
    "    model_kwargs={'device': 'cpu'},\n",
    "    encode_kwargs={'normalize_embeddings': True},\n",
    ")"
   ]
  },
  {
   "cell_type": "code",
   "execution_count": 26,
   "metadata": {},
   "outputs": [],
   "source": [
    "llm = ChatOpenAI(\n",
    "    temperature = 0,\n",
    "    model_name = \"gpt-4o\",\n",
    ")"
   ]
  },
  {
   "cell_type": "code",
   "execution_count": 27,
   "metadata": {},
   "outputs": [],
   "source": [
    "#Prompt Chain Response function\n",
    "\n",
    "def PCR(template, docs, query):\n",
    "    # Prompt\n",
    "    prompt = ChatPromptTemplate.from_template(template)\n",
    "\n",
    "    # Chain\n",
    "    chain = prompt | llm | StrOutputParser()\n",
    "\n",
    "    # Run\n",
    "    response = chain.invoke({\"question\":query, \"context\":docs})\n",
    "    return response\n",
    "\n",
    "\n",
    "# 당신은 광운대학교 학생인 사용자에게 사용자가 입력한 자신의 입학 연도를 기반으로 졸업 요건을 알려주는 인공지능 챗봇입니다.\n",
    "#             졸업 이수학점 표는 총 7열입니다. 이때 7열중 교양은 (필수+균형)과 기초라는 2열로 다시 나누어집니다.\n",
    "#             주전공학점(필수 포함)은 단일 전공시와 다전공 이수시로 2열로 나누어집니다.\n",
    "#             표에서 이웃한 여러 셀이 동일한 값을 가질 경우 그 열의 같은 값을 가지는 이웃한 셀들을 통합하기도 합니다.\n",
    "#             또한 이 문서는 각 졸업 요건이 동일한 입학 연도 단위 앞 부분에 가., 나., 다. ... 순으로 번호를 매깁니다.\n",
    "#             이 중 어떤 부분을 참고해서 답변 하였는지 맨 처음에 명시하세요."
   ]
  },
  {
   "cell_type": "code",
   "execution_count": null,
   "metadata": {},
   "outputs": [],
   "source": [
    "query = \"난 소프트웨어학부 2021학년도 입학생이야. 전공 45학점 교양 70학점을 들었어. \"\n",
    "\n",
    "template = '''한국어로 대답할 것. context로 주어진 정보를 바탕으로 query와 비교해 사용자가 졸업하려면 몇 학점이 어느 부분에서 부족한 지 알려주시오.\n",
    "            오직 자료만을 참고해 최대한 정확하게 말할 것. 어디를 참고했는지 먼저 말할 것. question:{question}, context:{context}'''\n",
    "\n",
    "# Dense Vector\n",
    "Dvectorstore = FAISS.load_local(\n",
    "    './db/faiss',\n",
    "    embeddings_model,\n",
    "    distance_strategy=DistanceStrategy.COSINE,\n",
    "    allow_dangerous_deserialization=True)\n",
    "\n",
    "Dretriever = Dvectorstore.as_retriever(search_kwargs={'k':3})\n",
    "Ddocs = Dretriever.get_relevant_documents(query)\n",
    "\n",
    "# BM25(Keyword Search)\n",
    "Kdocument = joblib.load(\"keyword.joblib\")\n",
    "Kretriever = BM25Retriever.from_documents(Kdocument)\n",
    "Kretriever.k = 3"
   ]
  },
  {
   "cell_type": "code",
   "execution_count": 29,
   "metadata": {},
   "outputs": [
    {
     "name": "stdout",
     "output_type": "stream",
     "text": [
      "주어진 정보를 바탕으로, 소프트웨어학부 2021학년도 입학생의 졸업 요건을 확인하였습니다. \n",
      "\n",
      "출처: Document(id='46906c82-ae16-43cd-94a9-6203bbf9ca64', metadata={'source': './db/files/2025_1_졸업이수요건_19_29.md'})\n",
      "\n",
      "소프트웨어학부의 졸업 요건은 다음과 같습니다:\n",
      "- 교양: 필수 22학점 + 균형 21학점 = 총 43학점\n",
      "- 전공: 60학점\n",
      "- 졸업이수학점: 133학점\n",
      "\n",
      "사용자가 이수한 학점:\n",
      "- 교양: 70학점\n",
      "- 전공: 45학점\n",
      "\n",
      "부족한 학점:\n",
      "- 전공 학점이 60학점 중 45학점만 이수하여 15학점이 부족합니다.\n",
      "- 총 졸업이수학점은 133학점 중 115학점(교양 70 + 전공 45)만 이수하여 18학점이 부족합니다.\n",
      "\n",
      "따라서, 졸업을 위해서는 전공 학점 15학점과 총 졸업이수학점 18학점을 추가로 이수해야 합니다.\n"
     ]
    }
   ],
   "source": [
    "# Ensemble Retriever\n",
    "retriever = EnsembleRetriever(\n",
    "    retrievers = [Kretriever, Dretriever],\n",
    "    weights = [0.3, 0.7],\n",
    ")\n",
    "\n",
    "result = retriever.invoke(query)\n",
    "\n",
    "print(PCR(template, result, query))"
   ]
  }
 ],
 "metadata": {
  "kernelspec": {
   "display_name": "Python 3",
   "language": "python",
   "name": "python3"
  },
  "language_info": {
   "codemirror_mode": {
    "name": "ipython",
    "version": 3
   },
   "file_extension": ".py",
   "mimetype": "text/x-python",
   "name": "python",
   "nbconvert_exporter": "python",
   "pygments_lexer": "ipython3",
   "version": "3.11.9"
  }
 },
 "nbformat": 4,
 "nbformat_minor": 2
}
