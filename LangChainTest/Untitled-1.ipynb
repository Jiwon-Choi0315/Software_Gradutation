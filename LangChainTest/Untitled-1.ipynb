{
 "cells": [
  {
   "cell_type": "code",
   "execution_count": 11,
   "metadata": {},
   "outputs": [
    {
     "data": {
      "text/plain": [
       "True"
      ]
     },
     "execution_count": 11,
     "metadata": {},
     "output_type": "execute_result"
    }
   ],
   "source": [
    "from dotenv import load_dotenv\n",
    "\n",
    "# API KEY 정보로드\n",
    "load_dotenv()\n"
   ]
  },
  {
   "cell_type": "code",
   "execution_count": 12,
   "metadata": {},
   "outputs": [],
   "source": [
    "from langchain_openai import ChatOpenAI\n",
    "from langchain_teddynote import logging\n",
    "from langchain_teddynote.messages import stream_response\n",
    "from langchain_core.prompts import PromptTemplate\n",
    "from langchain_core.runnables import RunnablePassthrough\n",
    "from langchain_core.prompts import ChatPromptTemplate, MessagesPlaceholder\n",
    "from langchain_core.output_parsers import StrOutputParser\n",
    "from langchain_core.prompts import FewShotChatMessagePromptTemplate\n",
    "from langchain_community.document_loaders import PyMuPDFLoader\n",
    "from langchain_text_splitters import RecursiveCharacterTextSplitter\n",
    "from langchain_openai import OpenAIEmbeddings\n",
    "from langchain_community.vectorstores import FAISS\n",
    "from langchain_community.vectorstores.utils import DistanceStrategy\n",
    "from langchain_community.embeddings import HuggingFaceEmbeddings\n",
    "from langchain_text_splitters import CharacterTextSplitter\n",
    "from langchain_community.document_loaders import TextLoader\n",
    "from langchain_community.document_loaders import UnstructuredMarkdownLoader\n",
    "from langchain_community.document_loaders import UnstructuredExcelLoader\n",
    "import pandas\n",
    "from llama_parse import LlamaParse"
   ]
  },
  {
   "cell_type": "code",
   "execution_count": 13,
   "metadata": {},
   "outputs": [
    {
     "name": "stderr",
     "output_type": "stream",
     "text": [
      "Created a chunk of size 4542, which is longer than the specified 4000\n",
      "Created a chunk of size 6428, which is longer than the specified 4000\n",
      "Created a chunk of size 9656, which is longer than the specified 4000\n",
      "Created a chunk of size 8983, which is longer than the specified 4000\n",
      "Created a chunk of size 9209, which is longer than the specified 4000\n",
      "Created a chunk of size 7541, which is longer than the specified 4000\n"
     ]
    },
    {
     "data": {
      "text/plain": [
       "8"
      ]
     },
     "execution_count": 13,
     "metadata": {},
     "output_type": "execute_result"
    }
   ],
   "source": [
    "# load and text split\n",
    "\n",
    "loader = TextLoader('2-2. 졸업이수학점 안내_Aspose.md', encoding = 'utf-8')\n",
    "data = loader.load()\n",
    "splitter = CharacterTextSplitter(\n",
    "    separator = '//<>',\n",
    "    # chunk_size = 4500,\n",
    "    # chunk_overlap = 500,\n",
    "    # length_function = len\n",
    ")\n",
    "\n",
    "documents = splitter.split_documents(data)\n",
    "len(documents)"
   ]
  },
  {
   "cell_type": "code",
   "execution_count": 14,
   "metadata": {},
   "outputs": [
    {
     "name": "stderr",
     "output_type": "stream",
     "text": [
      "c:\\Users\\jw\\.pyenv\\pyenv-win\\versions\\3.11.9\\Lib\\site-packages\\transformers\\tokenization_utils_base.py:1601: FutureWarning: `clean_up_tokenization_spaces` was not set. It will be set to `True` by default. This behavior will be depracted in transformers v4.45, and will be then set to `False` by default. For more details check this issue: https://github.com/huggingface/transformers/issues/31884\n",
      "  warnings.warn(\n"
     ]
    }
   ],
   "source": [
    "# save embeddings in vectorstore\n",
    "\n",
    "embed_model = HuggingFaceEmbeddings(\n",
    "    model_name = 'jhgan/ko-sroberta-nli',\n",
    "    model_kwargs = {'device':'cpu'},\n",
    "    encode_kwargs = {'normalize_embeddings':True}\n",
    ")\n",
    "\n",
    "vectorstore = FAISS.from_documents(documents,\n",
    "                                   embedding = embed_model,\n",
    "                                   distance_strategy = DistanceStrategy.COSINE)"
   ]
  },
  {
   "cell_type": "code",
   "execution_count": 15,
   "metadata": {},
   "outputs": [],
   "source": [
    "\n",
    "llm = ChatOpenAI(\n",
    "    temperature = 0,\n",
    "    model_name = \"gpt-4o-mini\",\n",
    "    max_tokens=500\n",
    ")"
   ]
  },
  {
   "cell_type": "code",
   "execution_count": 18,
   "metadata": {},
   "outputs": [
    {
     "name": "stdout",
     "output_type": "stream",
     "text": [
      "`   `타.  2024학년도  신입학자\n",
      "\n",
      "\\1)  졸업이수학점(2025학년도  2학년  편입생,  2026학년도  3학년  편입생  포함)\n",
      "\n",
      "\n",
      "\n",
      "<table><tr><th colspan=\"2\" rowspan=\"2\">단과대</th><th colspan=\"2\">교양</th><th colspan=\"2\">주전공학점 (필수포함)</th><th colspan=\"1\" rowspan=\"1\">심화 전공</th><th colspan=\"1\" rowspan=\"1\">복수 전공</th><th colspan=\"1\" rowspan=\"2\">부전공</th><th colspan=\"1\" rowspan=\"2\">졸업이수 학점</th></tr>\n",
      "<tr><td colspan=\"1\">필수</td><td colspan=\"1\">균형</td><td colspan=\"1\">단일 전공시</td><td colspan=\"1\">다전공 이수시＊</td></tr>\n",
      "<tr><td colspan=\"2\">전자정보공과대학</td><td colspan=\"1\" rowspan=\"2\">13</td><td colspan=\"1\" rowspan=\"7\">18</td><td colspan=\"1\">60</td><td colspan=\"1\">54</td><td colspan=\"1\">-</td><td colspan=\"1\">54</td><td colspan=\"1\">21</td><td colspan=\"2\">133</td></tr>\n",
      "<tr><td colspan=\"2\">인공지능융합대학</td><td colspan=\"1\">60</td><td colspan=\"1\">54</td><td colspan=\"1\">-</td><td colspan=\"1\">54</td><td colspan=\"1\">21</td><td colspan=\"2\">133</td></tr>\n",
      "<tr><td colspan=\"1\" rowspan=\"2\">공과대학</td><td colspan=\"1\">건축공,화공,환경</td><td colspan=\"1\">60</td><td colspan=\"1\">54</td><td colspan=\"1\">-</td><td colspan=\"1\">54</td><td colspan=\"1\">21</td><td colspan=\"2\">133</td></tr>\n",
      "<tr><td colspan=\"1\">건축학과(5년제)</td><td colspan=\"1\">120</td><td colspan=\"1\">120</td><td colspan=\"1\">-</td><td colspan=\"1\">99</td><td colspan=\"1\">45</td><td colspan=\"2\">163</td></tr>\n",
      "<tr><td colspan=\"1\" rowspan=\"3\">자연과학대학</td><td colspan=\"1\">수학과</td><td colspan=\"1\">48</td><td colspan=\"1\">45</td><td colspan=\"1\">70</td><td colspan=\"1\">45</td><td colspan=\"1\">21</td><td colspan=\"2\">133</td></tr>\n",
      "<tr><td colspan=\"1\">전자바이오물리학과</td><td colspan=\"1\" rowspan=\"2\">60</td><td colspan=\"1\" rowspan=\"2\">54</td><td colspan=\"1\" rowspan=\"2\">70</td><td colspan=\"1\" rowspan=\"2\">54</td><td colspan=\"1\" rowspan=\"2\">21</td><td colspan=\"2\" rowspan=\"2\">133</td></tr>\n",
      "<tr><td colspan=\"1\">화학과,  스포츠융합과학과</td></tr>\n",
      "<tr><td colspan=\"1\" rowspan=\"5\">인문사회 과학대학</td><td colspan=\"1\">국어국문학과</td><td colspan=\"1\" rowspan=\"5\">13</td><td colspan=\"1\" rowspan=\"5\">18</td><td colspan=\"1\">51</td><td colspan=\"1\">45</td><td colspan=\"1\">70</td><td colspan=\"1\">45</td><td colspan=\"1\">21</td><td colspan=\"2\">130</td></tr>\n",
      "<tr><td colspan=\"1\">영어산업학과</td><td colspan=\"1\">45</td><td colspan=\"1\">45</td><td colspan=\"1\">70</td><td colspan=\"1\">45</td><td colspan=\"1\">21</td><td colspan=\"2\">130</td></tr>\n",
      "<tr><td colspan=\"1\">산업심리학과</td><td colspan=\"1\">51</td><td colspan=\"1\">45</td><td colspan=\"1\">66</td><td colspan=\"1\">45</td><td colspan=\"1\">21</td><td colspan=\"2\">130</td></tr>\n",
      "<tr><td colspan=\"1\">미디어커뮤니케이션학부</td><td colspan=\"1\">45</td><td colspan=\"1\">45</td><td colspan=\"1\">70</td><td colspan=\"1\">45</td><td colspan=\"1\">21</td><td colspan=\"2\">130</td></tr>\n",
      "<tr><td colspan=\"1\">동북아문화산업학부</td><td colspan=\"1\">60</td><td colspan=\"1\">45</td><td colspan=\"1\">-</td><td colspan=\"1\">45</td><td colspan=\"1\">21</td><td colspan=\"2\">130</td></tr>\n",
      "<tr><td colspan=\"1\" rowspan=\"3\" valign=\"top\">정책법학대학</td><td colspan=\"1\">행정학과</td><td colspan=\"1\" rowspan=\"3\" valign=\"top\">13</td><td colspan=\"1\" rowspan=\"3\" valign=\"top\">18</td><td colspan=\"1\">45</td><td colspan=\"1\">45</td><td colspan=\"1\">60</td><td colspan=\"1\">45</td><td colspan=\"1\">30</td><td colspan=\"2\">130</td></tr>\n",
      "<tr><td colspan=\"1\" valign=\"top\">법학부</td><td colspan=\"1\" valign=\"top\">45</td><td colspan=\"1\" valign=\"top\">36</td><td colspan=\"1\" valign=\"top\">60</td><td colspan=\"1\" valign=\"top\">36</td><td colspan=\"1\" valign=\"top\">21</td><td colspan=\"2\" valign=\"top\">130</td></tr>\n",
      "<tr><td colspan=\"1\" valign=\"top\">국제학부</td><td colspan=\"1\" valign=\"top\">45</td><td colspan=\"1\" valign=\"top\">45</td><td colspan=\"1\" valign=\"top\">60</td><td colspan=\"1\" valign=\"top\">45</td><td colspan=\"1\" valign=\"top\">21</td><td colspan=\"2\" valign=\"top\">130</td></tr>\n",
      "<tr><td colspan=\"1\" rowspan=\"2\" valign=\"top\">경영대학</td><td colspan=\"1\" valign=\"top\">경영학부</td><td colspan=\"1\" rowspan=\"2\" valign=\"top\">13</td><td colspan=\"1\" rowspan=\"2\" valign=\"top\">18</td><td colspan=\"1\" valign=\"top\">54</td><td colspan=\"1\" valign=\"top\">45</td><td colspan=\"1\" valign=\"top\">70</td><td colspan=\"1\" valign=\"top\">45</td><td colspan=\"1\" valign=\"top\">21</td><td colspan=\"2\" valign=\"top\">130</td></tr>\n",
      "<tr><td colspan=\"1\" valign=\"top\">국제통상학부</td><td colspan=\"1\" valign=\"top\">57</td><td colspan=\"1\" valign=\"top\">45</td><td colspan=\"1\" valign=\"top\">-</td><td colspan=\"1\" valign=\"top\">45</td><td colspan=\"1\" valign=\"top\">21</td><td colspan=\"2\" valign=\"top\">130</td></tr>\n",
      "<tr><td colspan=\"1\" rowspan=\"4\" valign=\"top\">참빛인재대학</td><td colspan=\"1\" valign=\"bottom\">금융부동산법무학과</td><td colspan=\"2\" rowspan=\"4\" valign=\"top\">30</td><td colspan=\"1\" valign=\"bottom\">45</td><td colspan=\"1\" valign=\"bottom\">39</td><td colspan=\"1\" valign=\"bottom\">60</td><td colspan=\"1\" valign=\"bottom\">39</td><td colspan=\"1\" valign=\"bottom\">21</td><td colspan=\"2\" valign=\"bottom\">120</td></tr>\n",
      "<tr><td colspan=\"1\" valign=\"bottom\">게임콘텐츠학과</td><td colspan=\"1\" valign=\"bottom\">45</td><td colspan=\"1\" valign=\"bottom\">39</td><td colspan=\"1\" valign=\"bottom\">60</td><td colspan=\"1\" valign=\"bottom\">39</td><td colspan=\"1\" valign=\"bottom\">21</td><td colspan=\"2\" valign=\"bottom\">120</td></tr>\n",
      "<tr><td colspan=\"1\" valign=\"bottom\">스마트전기전자학과</td><td colspan=\"1\" valign=\"bottom\">45</td><td colspan=\"1\" valign=\"bottom\">39</td><td colspan=\"1\" valign=\"bottom\">60</td><td colspan=\"1\" valign=\"bottom\">39</td><td colspan=\"1\" valign=\"bottom\">21</td><td colspan=\"2\" valign=\"bottom\">120</td></tr>\n",
      "<tr><td colspan=\"1\" valign=\"bottom\">스포츠상담재활학과</td><td colspan=\"1\" valign=\"bottom\">45</td><td colspan=\"1\" valign=\"bottom\">39</td><td colspan=\"1\" valign=\"bottom\">60</td><td colspan=\"1\" valign=\"bottom\">39</td><td colspan=\"1\" valign=\"bottom\">21</td><td colspan=\"2\" valign=\"bottom\">120</td></tr>\n",
      "</table>\n",
      "\n",
      "* 주전공  이수학점  :  다전공  이수  시  일부  학과의  경우  주전공  이수학점이  하향  조정되며,  해당  다전공에는  복수전공, 연계전공,  복수심화전공이  포함됨(부전공  제외) \n",
      "- 입학전형  만학도  전형,  외국인전형,  특성화고를  졸업한  재직자전형,  체육특기자,  편입생의  교양필수 이수를  면제하고,  교양학점  30학점을  이수하도록  함.\n",
      "\n",
      "\n",
      "\n",
      "<table><tr><th colspan=\"2\">구분</th><th colspan=\"1\"></th><th colspan=\"1\">학점</th></tr>\n",
      "<tr><td colspan=\"1\"></td><td colspan=\"1\">광운인되기</td><td colspan=\"1\"></td><td colspan=\"1\">1학점</td></tr>\n",
      "<tr><td colspan=\"1\" valign=\"bottom\">필수</td><td colspan=\"1\">대학영어</td><td colspan=\"1\"></td><td colspan=\"1\">3학점</td></tr>\n",
      "<tr><td colspan=\"1\" valign=\"top\">교양</td><td colspan=\"1\">정보</td><td colspan=\"1\"></td><td colspan=\"1\">6학점</td></tr>\n",
      "<tr><td colspan=\"1\"></td><td colspan=\"1\"><p>융합적사고와</p><p>글쓰기</p></td><td colspan=\"1\"></td><td colspan=\"1\">3학점</td></tr>\n",
      "<tr><td colspan=\"1\"></td><td colspan=\"1\" valign=\"top\">과학과기술</td><td colspan=\"1\"></td><td colspan=\"1\"></td></tr>\n",
      "<tr><td colspan=\"1\"></td><td colspan=\"1\">인간과철학</td><td colspan=\"1\"></td><td colspan=\"1\"></td></tr>\n",
      "<tr><td colspan=\"1\" rowspan=\"2\" valign=\"bottom\">균형</td><td colspan=\"1\">사회와경제</td><td colspan=\"1\"></td><td colspan=\"1\" rowspan=\"2\" valign=\"bottom\">6과목  ×  3학점</td></tr>\n",
      "<tr><td colspan=\"1\"></td><td colspan=\"1\"></td></tr>\n",
      "<tr><td colspan=\"1\" valign=\"top\">교양</td><td colspan=\"1\" valign=\"top\">글로벌문화와제</td><td colspan=\"1\" valign=\"top\">2외국어</td><td colspan=\"1\" valign=\"top\">총  18학점</td></tr>\n",
      "<tr><td colspan=\"1\"></td><td colspan=\"1\" valign=\"top\">예술과체육</td><td colspan=\"1\"></td><td colspan=\"1\"></td></tr>\n",
      "<tr><td colspan=\"1\"></td><td colspan=\"1\">수리와자연 (신설)</td><td colspan=\"1\"></td><td colspan=\"1\"></td></tr>\n",
      "<tr><td colspan=\"2\">계</td><td colspan=\"1\"></td><td colspan=\"1\">31학점</td></tr>\n",
      "</table>\n",
      "\n",
      "\n",
      "\n",
      "* 균형교양에  서울권역  e러닝,  K-MOOC,  매치업,  외국어로서의한국어,  실용영어  강좌는  포함되지  않음\n",
      "* 3학점  과목만  인정됨(체육실기,음악실기,미술실기과목은  3학점이더라도  균형교양과목에서  제외)\n",
      "1) 필수교양(13학점) : 광운인되기, 대학영어, 정보, 융합적사고와글쓰기\n",
      "1) 균형교양(18학점) : 6과목×3학점=18학점 이수\n",
      "* 공학교육인증  졸업요건은  학과(부)  및  학번별  상이하므로  확인  후  수강신청  요망(「7.  공학계열 단과대학  공학교육인증제  시행  및  교과목  안내」  참조) \n",
      "\n",
      "`   `카.  2020학년도  신입학  ~  2023학년도  신입학자\n",
      "\n",
      "\\1)  졸업이수학점\n",
      "\n",
      "- 2021~2024학년도  2학년  편입생,  2022~2025학년도  3학년  편입생  포함\n",
      "\n",
      "\n",
      "\n",
      "<table><tr><th colspan=\"3\" rowspan=\"2\">단과대</th><th colspan=\"2\">교양</th><th colspan=\"2\">주전공학점 (필수포함)</th><th colspan=\"1\" rowspan=\"1\">심화 전공</th><th colspan=\"1\" rowspan=\"1\">복수 전공</th><th colspan=\"1\" rowspan=\"2\">부전공</th><th colspan=\"1\" rowspan=\"2\">졸업이수 학점</th></tr>\n",
      "<tr><td colspan=\"1\">필수+ 균형</td><td colspan=\"1\">기초</td><td colspan=\"1\">단일 전공시</td><td colspan=\"1\">다전공 이수시＊</td></tr>\n",
      "<tr><td colspan=\"3\">전자정보공과대학</td><td colspan=\"1\">22</td><td colspan=\"1\">24</td><td colspan=\"1\">60</td><td colspan=\"1\">54</td><td colspan=\"1\">-</td><td colspan=\"1\">54</td><td colspan=\"1\">21</td><td colspan=\"2\">133</td></tr>\n",
      "<tr><td colspan=\"1\" rowspan=\"4\"><p>인공지능 융합대학</p><p>(구. 소프트웨어 융합대학)</p></td><td colspan=\"2\">컴퓨터정보공학부</td><td colspan=\"1\">22</td><td colspan=\"1\">24</td><td colspan=\"1\">60</td><td colspan=\"1\">54</td><td colspan=\"1\">-</td><td colspan=\"1\">54</td><td colspan=\"1\">21</td><td colspan=\"2\">133</td></tr>\n",
      "<tr><td colspan=\"2\">소프트웨어학부</td><td colspan=\"1\">22</td><td colspan=\"1\">21</td><td colspan=\"1\">60</td><td colspan=\"1\">54</td><td colspan=\"1\">-</td><td colspan=\"1\">54</td><td colspan=\"1\">21</td><td colspan=\"2\">133</td></tr>\n",
      "<tr><td colspan=\"1\" rowspan=\"2\">정보융합학부</td><td colspan=\"1\">2020학번</td><td colspan=\"1\">22</td><td colspan=\"1\">9</td><td colspan=\"1\">60</td><td colspan=\"1\">54</td><td colspan=\"1\">-</td><td colspan=\"1\">54</td><td colspan=\"1\">21</td><td colspan=\"2\">133</td></tr>\n",
      "<tr><td colspan=\"1\">2021학번~</td><td colspan=\"1\">22</td><td colspan=\"1\">3</td><td colspan=\"1\">60</td><td colspan=\"1\">54</td><td colspan=\"1\">-</td><td colspan=\"1\">54</td><td colspan=\"1\">21</td><td colspan=\"2\">133</td></tr>\n",
      "<tr><td colspan=\"1\" rowspan=\"2\">공과대학</td><td colspan=\"2\">건축공,화공,환경</td><td colspan=\"1\">22</td><td colspan=\"1\">24</td><td colspan=\"1\">60</td><td colspan=\"1\">54</td><td colspan=\"1\">-</td><td colspan=\"1\">54</td><td colspan=\"1\">21</td><td colspan=\"2\">133</td></tr>\n",
      "<tr><td colspan=\"2\">건축학과(5년제)</td><td colspan=\"1\">22</td><td colspan=\"1\">-</td><td colspan=\"1\">120</td><td colspan=\"1\">120</td><td colspan=\"1\">-</td><td colspan=\"1\">99</td><td colspan=\"1\">45</td><td colspan=\"2\">163</td></tr>\n",
      "<tr><td colspan=\"1\" rowspan=\"4\">자연과학대학</td><td colspan=\"2\">수학과</td><td colspan=\"1\">22</td><td colspan=\"1\">-</td><td colspan=\"1\">48</td><td colspan=\"1\">45</td><td colspan=\"1\">70</td><td colspan=\"1\">45</td><td colspan=\"1\">21</td><td colspan=\"2\">133</td></tr>\n",
      "<tr><td colspan=\"2\">전자바이오물리학과</td><td colspan=\"1\">22</td><td colspan=\"1\">16</td><td colspan=\"1\" rowspan=\"2\">60</td><td colspan=\"1\" rowspan=\"2\">54</td><td colspan=\"1\" rowspan=\"2\">70</td><td colspan=\"1\" rowspan=\"2\">54</td><td colspan=\"1\" rowspan=\"2\">21</td><td colspan=\"2\" rowspan=\"2\">133</td></tr>\n",
      "<tr><td colspan=\"2\">화학과,  스포츠융합과학과</td><td colspan=\"1\">22</td><td colspan=\"1\">-</td></tr>\n",
      "<tr><td colspan=\"2\">정보콘텐츠학과</td><td colspan=\"1\">30</td><td colspan=\"1\">-</td><td colspan=\"1\">45</td><td colspan=\"1\">39</td><td colspan=\"1\">60</td><td colspan=\"1\">39</td><td colspan=\"1\">21</td><td colspan=\"2\">120</td></tr>\n",
      "<tr><td colspan=\"1\" rowspan=\"6\" valign=\"top\">인문사회 과학대학</td><td colspan=\"2\" valign=\"top\">국어국문학과</td><td colspan=\"1\" rowspan=\"4\" valign=\"top\">22</td><td colspan=\"1\" rowspan=\"8\" valign=\"top\">-</td><td colspan=\"1\" valign=\"top\">51</td><td colspan=\"1\" valign=\"top\">45</td><td colspan=\"1\" valign=\"top\">70</td><td colspan=\"1\" valign=\"top\">45</td><td colspan=\"1\" valign=\"top\">21</td><td colspan=\"2\" valign=\"top\">130</td></tr>\n",
      "<tr><td colspan=\"2\" valign=\"top\">영어산업학과</td><td colspan=\"1\" valign=\"top\">45</td><td colspan=\"1\" valign=\"top\">45</td><td colspan=\"1\" valign=\"top\">70</td><td colspan=\"1\" valign=\"top\">45</td><td colspan=\"1\" valign=\"top\">21</td><td colspan=\"2\" valign=\"top\">130</td></tr>\n",
      "<tr><td colspan=\"2\" valign=\"top\">산업심리학과</td><td colspan=\"1\" valign=\"top\">51</td><td colspan=\"1\" valign=\"top\">45</td><td colspan=\"1\" valign=\"top\">66</td><td colspan=\"1\" valign=\"top\">45</td><td colspan=\"1\" valign=\"top\">21</td><td colspan=\"2\" valign=\"top\">130</td></tr>\n",
      "<tr><td colspan=\"2\" valign=\"top\">미디어커뮤니케이션학부</td><td colspan=\"1\" valign=\"top\">45</td><td colspan=\"1\" valign=\"top\">45</td><td colspan=\"1\" valign=\"top\">70</td><td colspan=\"1\" valign=\"top\">45</td><td colspan=\"1\" valign=\"top\">21</td><td colspan=\"2\" valign=\"top\">130</td></tr>\n",
      "<tr><td colspan=\"1\" rowspan=\"2\" valign=\"top\"><p>동북아문화산업</p><p>학부</p></td><td colspan=\"1\" valign=\"bottom\">2020학번</td><td colspan=\"1\" valign=\"top\">66</td><td colspan=\"1\" valign=\"top\">45</td><td colspan=\"1\" valign=\"top\">-</td><td colspan=\"1\" valign=\"top\">45</td><td colspan=\"1\" valign=\"top\">21</td><td colspan=\"2\" valign=\"top\">130</td></tr>\n",
      "<tr><td colspan=\"1\" valign=\"bottom\">2021학번~</td><td colspan=\"1\" valign=\"top\">60</td><td colspan=\"1\" valign=\"top\">45</td><td colspan=\"1\" valign=\"top\">-</td><td colspan=\"1\" valign=\"top\">45</td><td colspan=\"1\" valign=\"top\">21</td><td colspan=\"2\" valign=\"top\">130</td></tr>\n",
      "<tr><td colspan=\"1\" rowspan=\"4\" valign=\"top\">정책법학대학</td><td colspan=\"2\" valign=\"top\">행정학과</td><td colspan=\"1\" valign=\"top\">45</td><td colspan=\"1\" valign=\"top\">45</td><td colspan=\"1\" valign=\"top\">60</td><td colspan=\"1\" valign=\"top\">45</td><td colspan=\"1\" valign=\"top\">30</td><td colspan=\"2\" valign=\"top\">130</td></tr>\n",
      "<tr><td colspan=\"2\" valign=\"top\">법학부</td><td colspan=\"1\" valign=\"top\">45</td><td colspan=\"1\" valign=\"top\">36</td><td colspan=\"1\" valign=\"top\">60</td><td colspan=\"1\" valign=\"top\">36</td><td colspan=\"1\" valign=\"top\">21</td><td colspan=\"2\" valign=\"top\">130</td></tr>\n",
      "<tr><td colspan=\"2\" valign=\"bottom\">자산관리학과</td><td colspan=\"1\" valign=\"bottom\">30</td><td colspan=\"1\" valign=\"bottom\">-</td><td colspan=\"1\" valign=\"bottom\">45</td><td colspan=\"1\" valign=\"bottom\">39</td><td colspan=\"1\" valign=\"bottom\">60</td><td colspan=\"1\" valign=\"bottom\">39</td><td colspan=\"1\" valign=\"bottom\">21</td><td colspan=\"2\" valign=\"bottom\">120</td></tr>\n",
      "<tr><td colspan=\"2\" valign=\"bottom\">국제학부*</td><td colspan=\"1\" rowspan=\"3\" valign=\"top\">22</td><td colspan=\"1\" rowspan=\"3\" valign=\"top\">-</td><td colspan=\"1\" valign=\"bottom\">45</td><td colspan=\"1\" valign=\"bottom\">45</td><td colspan=\"1\" valign=\"bottom\">60</td><td colspan=\"1\" valign=\"bottom\">45</td><td colspan=\"1\" valign=\"bottom\">21</td><td colspan=\"2\" valign=\"bottom\">130</td></tr>\n",
      "<tr><td colspan=\"1\" rowspan=\"2\" valign=\"top\">경영대학</td><td colspan=\"2\" valign=\"top\">경영학부</td><td colspan=\"1\" valign=\"top\">54</td><td colspan=\"1\" valign=\"top\">45</td><td colspan=\"1\" valign=\"top\">70</td><td colspan=\"1\" valign=\"top\">45</td><td colspan=\"1\" valign=\"top\">21</td><td colspan=\"2\" valign=\"top\">130</td></tr>\n",
      "<tr><td colspan=\"2\" valign=\"top\">국제통상학부</td><td colspan=\"1\" valign=\"top\">57</td><td colspan=\"1\" valign=\"top\">45</td><td colspan=\"1\" valign=\"top\">-</td><td colspan=\"1\" valign=\"top\">45</td><td colspan=\"1\" valign=\"top\">21</td><td colspan=\"2\" valign=\"top\">130</td></tr>\n",
      "</table>\n",
      "\n",
      "* 주전공  이수학점  :  다전공  이수  시  일부  학과의  경우  주전공  이수학점이  하향  조정되며,  해당  다전공에는  복수전공, 연계전공,  복수심화전공이  포함됨(부전공  제외) \n",
      "\n",
      "`  `가)  기초교양  이수\n",
      "\n",
      "- 공학계열  학과  :  공학인증제도  시행에  따라  기초교양(수학/기초과학/컴퓨터/공학기초)  교과목을  이수하여야  함\n",
      "\n",
      "`         `(공학인증제도  안내자료  참조)\n",
      "\n",
      "- 정보융합학부  :  학과에서  정한  기초교양  필수과목  의무  이수\n",
      "- 전자바이오물리학과  :  2018학년도  신입학자부터  학과에서  정한  기초교양필수과목  의무  이수\n",
      "\n",
      "`  `나)  입학전형  만학도  전형,  외국인전형,  특성화고를  졸업한  재직자전형,  체육특기자  교양필수  이수를  면제하고,  교\n",
      "\n",
      "양학점  30학점을  이수하도록  함.\n",
      "\n",
      "\n",
      "\n",
      "<table><tr><th colspan=\"2\">구분</th><th colspan=\"1\"><p>인문(인사대,정법대</p><p>,경영대)</p></th><th colspan=\"1\">자연(자연대)</th><th colspan=\"1\"><p>공학(전정공대,공</p><p>과대,인융대)</p></th></tr>\n",
      "<tr><td colspan=\"1\">광운인되기</td><td colspan=\"1\" rowspan=\"4\">필수 교양</td><td colspan=\"1\">1학점</td><td colspan=\"1\">1학점</td><td colspan=\"1\">1학점</td></tr>\n",
      "<tr><td colspan=\"1\">대학영어</td><td colspan=\"1\">3학점</td><td colspan=\"1\">3학점</td><td colspan=\"1\">3학점</td></tr>\n",
      "<tr><td colspan=\"1\">정보</td><td colspan=\"1\">6학점</td><td colspan=\"1\">6학점</td><td colspan=\"1\">6학점</td></tr>\n",
      "<tr><td colspan=\"1\">융합적사고와 글쓰기  (신설)</td><td colspan=\"1\">3학점</td><td colspan=\"1\">3학점</td><td colspan=\"1\">3학점</td></tr>\n",
      "<tr><td colspan=\"1\">과학과기술</td><td colspan=\"1\" rowspan=\"5\">균형 교양</td><td colspan=\"3\" rowspan=\"5\">5영역  중  3영역  ×  3학점 총  9학점  의무이수</td></tr>\n",
      "<tr><td colspan=\"1\">인간과철학</td></tr>\n",
      "<tr><td colspan=\"1\">사회와경제</td></tr>\n",
      "<tr><td colspan=\"1\">글로벌문화와 제2외국어</td></tr>\n",
      "<tr><td colspan=\"1\">예술과체육</td></tr>\n",
      "<tr><td colspan=\"2\">기초교양</td><td colspan=\"1\">-</td><td colspan=\"1\"><p>물리/화학·생물/수학</p><p>(25학점  이하)</p></td><td colspan=\"1\">물리/화학·생물/수학/ 컴퓨터/공학기초 (24학점  이하)</td></tr>\n",
      "<tr><td colspan=\"2\" valign=\"top\">계</td><td colspan=\"1\" valign=\"top\">22학점</td><td colspan=\"1\">22~38학점 (학과별로  상이)</td><td colspan=\"1\">22~46학점 (학과별로  상이)</td></tr>\n",
      "</table>\n",
      "\n",
      "\n",
      "\n",
      "* 균형교양에  서울권역  e러닝,  K-MOOC,  외국어로서의한국어,  실용영어  강좌는  포함되지  않음\n",
      "* 3학점  과목만  인정됨(체육실기,음악실기,미술실기과목은  3학점이더라도  균형교양과목에서  제외)\n",
      "1) 인문(인문사회과학대학,정책법학대학,경영대학)\n",
      "\n",
      "`         `(가)  필수교양  :  광운인되기,  대학영어,  정보,  융합적사고와글쓰기\n",
      "\n",
      "`         `(나)  균형교양  :  5영역중  3영역×3학점=9학점  의무  이수\n",
      "\n",
      "2) 자연(자연과학대학)\n",
      "\n",
      "`         `(가)  필수교양  :  광운인되기,  대학영어,  정보,  융합적사고와글쓰기\n",
      "\n",
      "`         `(나)  균형교양  :  5영역중  3영역×3학점=9학점  의무  이수\n",
      "\n",
      "`         `(다)  기초교양  :  물리/화학,생물/수학(25학점이하)  \\*최소  이수요건은  학과별  상이\n",
      "\n",
      "3) 공학(전자정보공과대학,공과대학,인공지능융합대학)\n",
      "\n",
      "`         `(가)  필수교양  :  광운인되기,  대학영어,  정보,  융합적사고와글쓰기\n",
      "\n",
      "`         `(나)  균형교양  :  5영역중  3영역×3학점=9학점  의무  이수\n",
      "\n",
      "`         `(다)  기초교양  :  물리/화학,생물/수학,컴퓨터/공학기초(24학점이하) \n",
      "\n",
      "\\*최소  이수요건은  학과별  상이(공학인증제도  안내자료  참조) \n",
      "\n"
     ]
    }
   ],
   "source": [
    "# query and retirever\n",
    "\n",
    "query = '2024학년도 소프트웨어학부 신입학자가 졸업하기 위한 학점을 알려줘.'\n",
    "\n",
    "retriever = vectorstore.as_retriever(search_kwargs={'k': 2})\n",
    "\n",
    "docs = retriever.get_relevant_documents(query)\n",
    "\n",
    "for i in docs:\n",
    "    print(i.page_content, \"\\n\")"
   ]
  },
  {
   "cell_type": "code",
   "execution_count": 17,
   "metadata": {},
   "outputs": [
    {
     "name": "stdout",
     "output_type": "stream",
     "text": [
      "저는 \"카. 2020학년도 신입학 ~ 2023학년도 신입학자\" 부분을 참고하여 답변하겠습니다.\n",
      "\n",
      "2024학년도 소프트웨어학부 신입학자가 졸업하기 위한 학점은 다음과 같습니다:\n",
      "\n",
      "- **교양**: 필수 + 균형 22학점, 기초 24학점\n",
      "- **주전공학점 (필수 포함)**: 단일 전공시 60학점, 다전공 이수시 54학점\n",
      "- **심화 전공**: -\n",
      "- **복수 전공**: 54학점\n",
      "- **부전공**: 21학점\n",
      "- **졸업이수 학점**: 133학점\n",
      "\n",
      "이 정보를 바탕으로 졸업 요건을 충족하시기 바랍니다.\n"
     ]
    }
   ],
   "source": [
    "# generation\n",
    "\n",
    "\n",
    "template = '''당신은 광운대학교 학생인 사용자에게 사용자가 입력한 자신의 입학 연도를 기반으로 졸업 요건을 알려주는 인공지능 챗봇입니다.\n",
    "            졸업 이수학점 표는 총 7열입니다. 이때 7열중 교양은 (필수+균형)과 기초라는 2열로 다시 나누어집니다.\n",
    "            주전공학점(필수 포함)은 단일 전공시와 다전공 이수시로 2열로 나누어집니다.\n",
    "            표에서 이웃한 여러 셀이 동일한 값을 가질 경우 그 열의 같은 값을 가지는 이웃한 셀들을 통합하기도 합니다.\n",
    "            또한 이 문서는 각 졸업 요건이 동일한 입학 연도 단위 앞 부분에 가., 나., 다. ... 순으로 번호를 매깁니다.\n",
    "            이 중 어떤 부분을 참고해서 답변 하였는지 맨 처음에 명시하세요.\n",
    "            오직 한가지 한 단위만 참고해서 답변해야 하며, 당신이 참고했다 말하는 부분만을 기반으로 답변해야 합니다.\n",
    "            생략되는 정보가 없어야 합니다.\n",
    "            만약 표에 나타나 있는 데이터를 참고해야 한다면, 표 내용을 그대로 출력하되, 병합된 셀이 있는지를 감안하세요요.\n",
    "            오직 다음의 context에 기반하여 대답하세요. {context}, Question: {question}\n",
    "            '''\n",
    "\n",
    "prompt = ChatPromptTemplate.from_template(template)\n",
    "\n",
    "# 이 부분은 뭔지 모르겠음\n",
    "# def format_docs(docs):\n",
    "#     return '\\n\\n'.join([d.page_content for d in docs])\n",
    "\n",
    "# Chain\n",
    "chain = prompt | llm | StrOutputParser()\n",
    "\n",
    "# Run\n",
    "response = chain.invoke({'context': docs, 'question':query})\n",
    "print(response)"
   ]
  }
 ],
 "metadata": {
  "kernelspec": {
   "display_name": "Python 3",
   "language": "python",
   "name": "python3"
  },
  "language_info": {
   "codemirror_mode": {
    "name": "ipython",
    "version": 3
   },
   "file_extension": ".py",
   "mimetype": "text/x-python",
   "name": "python",
   "nbconvert_exporter": "python",
   "pygments_lexer": "ipython3",
   "version": "3.11.9"
  }
 },
 "nbformat": 4,
 "nbformat_minor": 2
}
